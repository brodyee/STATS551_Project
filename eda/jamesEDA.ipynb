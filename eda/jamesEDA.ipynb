{
 "cells": [
  {
   "cell_type": "markdown",
   "id": "9e178a12",
   "metadata": {},
   "source": [
    "# Table of Content\n",
    "- [Import library](#Imports)\n",
    "- [Data Read in and Cleaning](#Data-Read-in-and-Cleaning)"
   ]
  },
  {
   "cell_type": "markdown",
   "id": "d070feeb",
   "metadata": {
    "pycharm": {
     "name": "#%% md\n"
    }
   },
   "source": [
    "# Imports"
   ]
  },
  {
   "cell_type": "code",
   "execution_count": 1,
   "id": "6f4db59f",
   "metadata": {},
   "outputs": [],
   "source": [
    "import numpy as np\n",
    "import pandas as pd\n",
    "import matplotlib.pyplot as plt\n",
    "import seaborn as sns"
   ]
  },
  {
   "cell_type": "markdown",
   "id": "2a7a10ca",
   "metadata": {},
   "source": [
    "## Data Read in and Cleaning\n",
    "[back to top](#Table-of-Contents)"
   ]
  },
  {
   "cell_type": "code",
   "execution_count": 2,
   "id": "144bea77",
   "metadata": {
    "pycharm": {
     "name": "#%%\n"
    }
   },
   "outputs": [
    {
     "data": {
      "text/html": [
       "<div>\n",
       "<style scoped>\n",
       "    .dataframe tbody tr th:only-of-type {\n",
       "        vertical-align: middle;\n",
       "    }\n",
       "\n",
       "    .dataframe tbody tr th {\n",
       "        vertical-align: top;\n",
       "    }\n",
       "\n",
       "    .dataframe thead th {\n",
       "        text-align: right;\n",
       "    }\n",
       "</style>\n",
       "<table border=\"1\" class=\"dataframe\">\n",
       "  <thead>\n",
       "    <tr style=\"text-align: right;\">\n",
       "      <th></th>\n",
       "      <th>sitecode</th>\n",
       "      <th>sitename</th>\n",
       "      <th>sitetype</th>\n",
       "      <th>sitetypenum</th>\n",
       "      <th>year</th>\n",
       "      <th>survyear</th>\n",
       "      <th>weight</th>\n",
       "      <th>stratum</th>\n",
       "      <th>PSU</th>\n",
       "      <th>record</th>\n",
       "      <th>...</th>\n",
       "      <th>qwenthungry</th>\n",
       "      <th>qmusclestrength</th>\n",
       "      <th>qsunscreenuse</th>\n",
       "      <th>qindoortanning</th>\n",
       "      <th>qsunburn</th>\n",
       "      <th>qconcentrating</th>\n",
       "      <th>qcurrentasthma</th>\n",
       "      <th>qwheresleep</th>\n",
       "      <th>qspeakenglish</th>\n",
       "      <th>qtransgender</th>\n",
       "    </tr>\n",
       "  </thead>\n",
       "  <tbody>\n",
       "    <tr>\n",
       "      <th>0</th>\n",
       "      <td>NYI</td>\n",
       "      <td>Borough of Manhattan, NY (NYI)</td>\n",
       "      <td>District</td>\n",
       "      <td>1</td>\n",
       "      <td>2007</td>\n",
       "      <td>9</td>\n",
       "      <td>3.7107</td>\n",
       "      <td>49</td>\n",
       "      <td>2</td>\n",
       "      <td>1776279</td>\n",
       "      <td>...</td>\n",
       "      <td>NaN</td>\n",
       "      <td>NaN</td>\n",
       "      <td>NaN</td>\n",
       "      <td>NaN</td>\n",
       "      <td>NaN</td>\n",
       "      <td>NaN</td>\n",
       "      <td>NaN</td>\n",
       "      <td>NaN</td>\n",
       "      <td>NaN</td>\n",
       "      <td>NaN</td>\n",
       "    </tr>\n",
       "    <tr>\n",
       "      <th>1</th>\n",
       "      <td>NYI</td>\n",
       "      <td>Borough of Manhattan, NY (NYI)</td>\n",
       "      <td>District</td>\n",
       "      <td>1</td>\n",
       "      <td>2007</td>\n",
       "      <td>9</td>\n",
       "      <td>7.3810</td>\n",
       "      <td>49</td>\n",
       "      <td>2</td>\n",
       "      <td>1776280</td>\n",
       "      <td>...</td>\n",
       "      <td>NaN</td>\n",
       "      <td>NaN</td>\n",
       "      <td>NaN</td>\n",
       "      <td>NaN</td>\n",
       "      <td>NaN</td>\n",
       "      <td>NaN</td>\n",
       "      <td>NaN</td>\n",
       "      <td>NaN</td>\n",
       "      <td>NaN</td>\n",
       "      <td>NaN</td>\n",
       "    </tr>\n",
       "    <tr>\n",
       "      <th>2</th>\n",
       "      <td>NYI</td>\n",
       "      <td>Borough of Manhattan, NY (NYI)</td>\n",
       "      <td>District</td>\n",
       "      <td>1</td>\n",
       "      <td>2007</td>\n",
       "      <td>9</td>\n",
       "      <td>3.8955</td>\n",
       "      <td>49</td>\n",
       "      <td>2</td>\n",
       "      <td>1776281</td>\n",
       "      <td>...</td>\n",
       "      <td>NaN</td>\n",
       "      <td>NaN</td>\n",
       "      <td>NaN</td>\n",
       "      <td>NaN</td>\n",
       "      <td>NaN</td>\n",
       "      <td>NaN</td>\n",
       "      <td>NaN</td>\n",
       "      <td>NaN</td>\n",
       "      <td>NaN</td>\n",
       "      <td>NaN</td>\n",
       "    </tr>\n",
       "    <tr>\n",
       "      <th>3</th>\n",
       "      <td>NYI</td>\n",
       "      <td>Borough of Manhattan, NY (NYI)</td>\n",
       "      <td>District</td>\n",
       "      <td>1</td>\n",
       "      <td>2007</td>\n",
       "      <td>9</td>\n",
       "      <td>29.5199</td>\n",
       "      <td>14</td>\n",
       "      <td>2</td>\n",
       "      <td>1776282</td>\n",
       "      <td>...</td>\n",
       "      <td>NaN</td>\n",
       "      <td>NaN</td>\n",
       "      <td>NaN</td>\n",
       "      <td>NaN</td>\n",
       "      <td>NaN</td>\n",
       "      <td>NaN</td>\n",
       "      <td>NaN</td>\n",
       "      <td>NaN</td>\n",
       "      <td>NaN</td>\n",
       "      <td>NaN</td>\n",
       "    </tr>\n",
       "    <tr>\n",
       "      <th>4</th>\n",
       "      <td>NYI</td>\n",
       "      <td>Borough of Manhattan, NY (NYI)</td>\n",
       "      <td>District</td>\n",
       "      <td>1</td>\n",
       "      <td>2007</td>\n",
       "      <td>9</td>\n",
       "      <td>29.5199</td>\n",
       "      <td>14</td>\n",
       "      <td>2</td>\n",
       "      <td>1776283</td>\n",
       "      <td>...</td>\n",
       "      <td>NaN</td>\n",
       "      <td>NaN</td>\n",
       "      <td>NaN</td>\n",
       "      <td>NaN</td>\n",
       "      <td>NaN</td>\n",
       "      <td>NaN</td>\n",
       "      <td>NaN</td>\n",
       "      <td>NaN</td>\n",
       "      <td>NaN</td>\n",
       "      <td>NaN</td>\n",
       "    </tr>\n",
       "  </tbody>\n",
       "</table>\n",
       "<p>5 rows × 151 columns</p>\n",
       "</div>"
      ],
      "text/plain": [
       "  sitecode                        sitename  sitetype  sitetypenum  year  \\\n",
       "0      NYI  Borough of Manhattan, NY (NYI)  District            1  2007   \n",
       "1      NYI  Borough of Manhattan, NY (NYI)  District            1  2007   \n",
       "2      NYI  Borough of Manhattan, NY (NYI)  District            1  2007   \n",
       "3      NYI  Borough of Manhattan, NY (NYI)  District            1  2007   \n",
       "4      NYI  Borough of Manhattan, NY (NYI)  District            1  2007   \n",
       "\n",
       "   survyear   weight  stratum  PSU   record  ...  qwenthungry  \\\n",
       "0         9   3.7107       49    2  1776279  ...          NaN   \n",
       "1         9   7.3810       49    2  1776280  ...          NaN   \n",
       "2         9   3.8955       49    2  1776281  ...          NaN   \n",
       "3         9  29.5199       14    2  1776282  ...          NaN   \n",
       "4         9  29.5199       14    2  1776283  ...          NaN   \n",
       "\n",
       "   qmusclestrength  qsunscreenuse  qindoortanning  qsunburn  qconcentrating  \\\n",
       "0              NaN            NaN             NaN       NaN             NaN   \n",
       "1              NaN            NaN             NaN       NaN             NaN   \n",
       "2              NaN            NaN             NaN       NaN             NaN   \n",
       "3              NaN            NaN             NaN       NaN             NaN   \n",
       "4              NaN            NaN             NaN       NaN             NaN   \n",
       "\n",
       "   qcurrentasthma  qwheresleep  qspeakenglish  qtransgender  \n",
       "0             NaN          NaN            NaN           NaN  \n",
       "1             NaN          NaN            NaN           NaN  \n",
       "2             NaN          NaN            NaN           NaN  \n",
       "3             NaN          NaN            NaN           NaN  \n",
       "4             NaN          NaN            NaN           NaN  \n",
       "\n",
       "[5 rows x 151 columns]"
      ]
     },
     "execution_count": 2,
     "metadata": {},
     "output_type": "execute_result"
    }
   ],
   "source": [
    "root = \"../data/\"\n",
    "survDat = pd.concat([pd.read_csv(root + \"SADCQFirst200k.csv\"),\n",
    "                     pd.read_csv(root + \"SADCQMid200k.csv\"),\n",
    "                     pd.read_csv(root + \"SADCQLast.csv\")],\n",
    "                    ignore_index=True)\n",
    "survDat.head()"
   ]
  },
  {
   "cell_type": "code",
   "execution_count": 4,
   "id": "ff1ea0c1",
   "metadata": {
    "pycharm": {
     "name": "#%%\n"
    }
   },
   "outputs": [
    {
     "data": {
      "text/plain": [
       "(377062, 151)"
      ]
     },
     "execution_count": 4,
     "metadata": {},
     "output_type": "execute_result"
    }
   ],
   "source": [
    "survDat[survDat['year'] >= 2005].shape"
   ]
  },
  {
   "cell_type": "code",
   "execution_count": 67,
   "id": "4c381577",
   "metadata": {
    "pycharm": {
     "name": "#%%\n"
    }
   },
   "outputs": [
    {
     "data": {
      "text/html": [
       "<div>\n",
       "<style scoped>\n",
       "    .dataframe tbody tr th:only-of-type {\n",
       "        vertical-align: middle;\n",
       "    }\n",
       "\n",
       "    .dataframe tbody tr th {\n",
       "        vertical-align: top;\n",
       "    }\n",
       "\n",
       "    .dataframe thead th {\n",
       "        text-align: right;\n",
       "    }\n",
       "</style>\n",
       "<table border=\"1\" class=\"dataframe\">\n",
       "  <thead>\n",
       "    <tr style=\"text-align: right;\">\n",
       "      <th></th>\n",
       "      <th>sitecode</th>\n",
       "      <th>sitename</th>\n",
       "      <th>year</th>\n",
       "      <th>weight</th>\n",
       "      <th>stratum</th>\n",
       "      <th>PSU</th>\n",
       "      <th>age</th>\n",
       "      <th>sex</th>\n",
       "      <th>grade</th>\n",
       "      <th>race4</th>\n",
       "      <th>...</th>\n",
       "      <th>qcigschool</th>\n",
       "      <th>qchewtobschool</th>\n",
       "      <th>qalcoholschool</th>\n",
       "      <th>qmarijuanaschool</th>\n",
       "      <th>qcurrentcocaine</th>\n",
       "      <th>qgenderexp</th>\n",
       "      <th>qtaughtHIV</th>\n",
       "      <th>qmusclestrength</th>\n",
       "      <th>qcurrentasthma</th>\n",
       "      <th>qtransgender</th>\n",
       "    </tr>\n",
       "  </thead>\n",
       "  <tbody>\n",
       "    <tr>\n",
       "      <th>0</th>\n",
       "      <td>NYI</td>\n",
       "      <td>Borough of Manhattan, NY (NYI)</td>\n",
       "      <td>2007</td>\n",
       "      <td>3.7107</td>\n",
       "      <td>49</td>\n",
       "      <td>2</td>\n",
       "      <td>5.0</td>\n",
       "      <td>1.0</td>\n",
       "      <td>2.0</td>\n",
       "      <td>3.0</td>\n",
       "      <td>...</td>\n",
       "      <td>1.0</td>\n",
       "      <td>NaN</td>\n",
       "      <td>1.0</td>\n",
       "      <td>1.0</td>\n",
       "      <td>NaN</td>\n",
       "      <td>NaN</td>\n",
       "      <td>2.0</td>\n",
       "      <td>NaN</td>\n",
       "      <td>NaN</td>\n",
       "      <td>NaN</td>\n",
       "    </tr>\n",
       "    <tr>\n",
       "      <th>1</th>\n",
       "      <td>NYI</td>\n",
       "      <td>Borough of Manhattan, NY (NYI)</td>\n",
       "      <td>2007</td>\n",
       "      <td>3.8955</td>\n",
       "      <td>49</td>\n",
       "      <td>2</td>\n",
       "      <td>5.0</td>\n",
       "      <td>1.0</td>\n",
       "      <td>4.0</td>\n",
       "      <td>3.0</td>\n",
       "      <td>...</td>\n",
       "      <td>1.0</td>\n",
       "      <td>NaN</td>\n",
       "      <td>1.0</td>\n",
       "      <td>1.0</td>\n",
       "      <td>NaN</td>\n",
       "      <td>NaN</td>\n",
       "      <td>1.0</td>\n",
       "      <td>NaN</td>\n",
       "      <td>NaN</td>\n",
       "      <td>NaN</td>\n",
       "    </tr>\n",
       "    <tr>\n",
       "      <th>2</th>\n",
       "      <td>NYI</td>\n",
       "      <td>Borough of Manhattan, NY (NYI)</td>\n",
       "      <td>2007</td>\n",
       "      <td>29.5199</td>\n",
       "      <td>14</td>\n",
       "      <td>2</td>\n",
       "      <td>5.0</td>\n",
       "      <td>1.0</td>\n",
       "      <td>3.0</td>\n",
       "      <td>3.0</td>\n",
       "      <td>...</td>\n",
       "      <td>NaN</td>\n",
       "      <td>NaN</td>\n",
       "      <td>NaN</td>\n",
       "      <td>NaN</td>\n",
       "      <td>NaN</td>\n",
       "      <td>NaN</td>\n",
       "      <td>1.0</td>\n",
       "      <td>NaN</td>\n",
       "      <td>NaN</td>\n",
       "      <td>NaN</td>\n",
       "    </tr>\n",
       "    <tr>\n",
       "      <th>3</th>\n",
       "      <td>NYI</td>\n",
       "      <td>Borough of Manhattan, NY (NYI)</td>\n",
       "      <td>2007</td>\n",
       "      <td>29.5199</td>\n",
       "      <td>14</td>\n",
       "      <td>2</td>\n",
       "      <td>5.0</td>\n",
       "      <td>1.0</td>\n",
       "      <td>3.0</td>\n",
       "      <td>3.0</td>\n",
       "      <td>...</td>\n",
       "      <td>1.0</td>\n",
       "      <td>NaN</td>\n",
       "      <td>1.0</td>\n",
       "      <td>1.0</td>\n",
       "      <td>NaN</td>\n",
       "      <td>NaN</td>\n",
       "      <td>1.0</td>\n",
       "      <td>NaN</td>\n",
       "      <td>NaN</td>\n",
       "      <td>NaN</td>\n",
       "    </tr>\n",
       "    <tr>\n",
       "      <th>4</th>\n",
       "      <td>NYI</td>\n",
       "      <td>Borough of Manhattan, NY (NYI)</td>\n",
       "      <td>2007</td>\n",
       "      <td>29.5199</td>\n",
       "      <td>14</td>\n",
       "      <td>2</td>\n",
       "      <td>5.0</td>\n",
       "      <td>1.0</td>\n",
       "      <td>3.0</td>\n",
       "      <td>3.0</td>\n",
       "      <td>...</td>\n",
       "      <td>1.0</td>\n",
       "      <td>NaN</td>\n",
       "      <td>1.0</td>\n",
       "      <td>1.0</td>\n",
       "      <td>NaN</td>\n",
       "      <td>NaN</td>\n",
       "      <td>1.0</td>\n",
       "      <td>NaN</td>\n",
       "      <td>NaN</td>\n",
       "      <td>NaN</td>\n",
       "    </tr>\n",
       "  </tbody>\n",
       "</table>\n",
       "<p>5 rows × 113 columns</p>\n",
       "</div>"
      ],
      "text/plain": [
       "  sitecode                        sitename  year   weight  stratum  PSU  age  \\\n",
       "0      NYI  Borough of Manhattan, NY (NYI)  2007   3.7107       49    2  5.0   \n",
       "1      NYI  Borough of Manhattan, NY (NYI)  2007   3.8955       49    2  5.0   \n",
       "2      NYI  Borough of Manhattan, NY (NYI)  2007  29.5199       14    2  5.0   \n",
       "3      NYI  Borough of Manhattan, NY (NYI)  2007  29.5199       14    2  5.0   \n",
       "4      NYI  Borough of Manhattan, NY (NYI)  2007  29.5199       14    2  5.0   \n",
       "\n",
       "   sex  grade  race4  ...  qcigschool  qchewtobschool  qalcoholschool  \\\n",
       "0  1.0    2.0    3.0  ...         1.0             NaN             1.0   \n",
       "1  1.0    4.0    3.0  ...         1.0             NaN             1.0   \n",
       "2  1.0    3.0    3.0  ...         NaN             NaN             NaN   \n",
       "3  1.0    3.0    3.0  ...         1.0             NaN             1.0   \n",
       "4  1.0    3.0    3.0  ...         1.0             NaN             1.0   \n",
       "\n",
       "   qmarijuanaschool  qcurrentcocaine  qgenderexp  qtaughtHIV  qmusclestrength  \\\n",
       "0               1.0              NaN         NaN         2.0              NaN   \n",
       "1               1.0              NaN         NaN         1.0              NaN   \n",
       "2               NaN              NaN         NaN         1.0              NaN   \n",
       "3               1.0              NaN         NaN         1.0              NaN   \n",
       "4               1.0              NaN         NaN         1.0              NaN   \n",
       "\n",
       "   qcurrentasthma  qtransgender  \n",
       "0             NaN           NaN  \n",
       "1             NaN           NaN  \n",
       "2             NaN           NaN  \n",
       "3             NaN           NaN  \n",
       "4             NaN           NaN  \n",
       "\n",
       "[5 rows x 113 columns]"
      ]
     },
     "execution_count": 67,
     "metadata": {},
     "output_type": "execute_result"
    }
   ],
   "source": [
    "root = \"../data/\"\n",
    "survDat = pd.concat([pd.read_csv(root + \"cleanSurvBefore10s.csv\"),\n",
    "                     pd.read_csv(root + \"cleanSurv10s.csv\")],\n",
    "                    ignore_index=True)\n",
    "survDat.head()"
   ]
  },
  {
   "cell_type": "markdown",
   "id": "d1810f63",
   "metadata": {
    "pycharm": {
     "name": "#%% md\n"
    }
   },
   "source": [
    "## Data-Read-in-and-Cleaning"
   ]
  },
  {
   "cell_type": "code",
   "execution_count": 68,
   "id": "e86315cd",
   "metadata": {
    "pycharm": {
     "name": "#%%\n"
    }
   },
   "outputs": [
    {
     "name": "stdout",
     "output_type": "stream",
     "text": [
      "(492486, 113)\n",
      "(333010, 113)\n"
     ]
    }
   ],
   "source": [
    "print(survDat.shape)\n",
    "# clean missing values in q8,q9,for all years\n",
    "survDat.dropna(how=\"any\",\n",
    "               subset = ['q8','q9'],\n",
    "               inplace = True)\n",
    "print(survDat.shape)"
   ]
  },
  {
   "cell_type": "code",
   "execution_count": 69,
   "id": "d891ed50",
   "metadata": {
    "pycharm": {
     "name": "#%%\n"
    }
   },
   "outputs": [
    {
     "name": "stdout",
     "output_type": "stream",
     "text": [
      "247223 47997 10346\n",
      "(322664, 113)\n"
     ]
    }
   ],
   "source": [
    "# clean missing values in year 2013,2015 use q10,q11\n",
    "mask1 = (survDat['q10'].isna()==True) | (survDat['q11'].isna()==True)\n",
    "mask2 =(survDat['year'] == 2013) | (survDat['year'] == 2015)\n",
    "_1 = list(survDat[mask1].index)\n",
    "_2 = list(survDat[mask2].index)\n",
    "_final = list(set(_1).intersection(set(_2)))\n",
    "print(len(_1),len(_2),len(_final))\n",
    "survDat.drop(index = _final, inplace=True)\n",
    "print(survDat.shape)"
   ]
  },
  {
   "cell_type": "code",
   "execution_count": 4,
   "id": "059491d3",
   "metadata": {
    "pycharm": {
     "name": "#%%\n"
    }
   },
   "outputs": [
    {
     "name": "stdout",
     "output_type": "stream",
     "text": [
      "['sitecode', 'sitename', 'sitetype', 'sitetypenum', 'year', 'survyear', 'weight', 'stratum', 'PSU', 'record', 'age', 'sex', 'grade', 'race4', 'race7', 'stheight', 'stweight', 'bmi', 'bmipct', 'qnobese', 'qnowt', 'q66', 'q65', 'sexid', 'sexid2', 'sexpart', 'sexpart2', 'q8', 'q9', 'q10', 'q11', 'q12', 'q13', 'q14', 'q15', 'q16', 'q17', 'q18', 'q19', 'q20', 'q21', 'q22', 'q23', 'q24', 'q25', 'q26', 'q27', 'q28', 'q29', 'q30', 'q31', 'q32', 'q33', 'q34', 'q35', 'q36', 'q37', 'q38', 'q39', 'q40', 'q41', 'q42', 'q43', 'q44', 'q45', 'q46', 'q47', 'q48', 'q49', 'q50', 'q51', 'q52', 'q53', 'q54', 'q55', 'q56', 'q57', 'q58', 'q59', 'q60', 'q61', 'q62', 'q63', 'q64', 'q67', 'q68', 'q69', 'q70', 'q71', 'q72', 'q73', 'q74', 'q75', 'q76', 'q77', 'q78', 'q79', 'q80', 'q81', 'q82', 'q83', 'q84', 'q85', 'q86', 'q87', 'q88', 'q89', 'qbikehelmet', 'qdrivemarijuana', 'qcelldriving', 'qpropertydamage', 'qbullyweight', 'qbullygender', 'qbullygay', 'qchokeself', 'qcigschool', 'qchewtobschool', 'qalcoholschool', 'qtypealcohol2', 'qhowmarijuana', 'qmarijuanaschool', 'qcurrentopioid', 'qcurrentcocaine', 'qcurrentheroin', 'qcurrentmeth', 'qhallucdrug', 'qprescription30d', 'qgenderexp', 'qtaughtHIV', 'qtaughtsexed', 'qtaughtstd', 'qtaughtcondom', 'qtaughtbc', 'qdietpop', 'qcoffeetea', 'qsportsdrink', 'qenergydrink', 'qsugardrink', 'qwater', 'qfastfood', 'qfoodallergy', 'qwenthungry', 'qmusclestrength', 'qsunscreenuse', 'qindoortanning', 'qsunburn', 'qconcentrating', 'qcurrentasthma', 'qwheresleep', 'qspeakenglish', 'qtransgender']\n"
     ]
    }
   ],
   "source": [
    "print([i for i in survDat.columns])"
   ]
  },
  {
   "cell_type": "markdown",
   "id": "60f42cf5",
   "metadata": {},
   "source": [
    "# Question throughout the years"
   ]
  },
  {
   "cell_type": "code",
   "execution_count": 56,
   "id": "9f6d3f76",
   "metadata": {
    "pycharm": {
     "name": "#%%\n"
    }
   },
   "outputs": [],
   "source": [
    "# These are the categories of the questions\n",
    "carRiskqs = [\"q8\", \"q9\", \"q10\", \"q11\"]\n",
    "violenceqs = [\"q12\", \"q13\", \"q14\", \"q15\",\n",
    "              \"q16\", \"q17\", \"q18\"]\n",
    "sexqs = [\"q19\", \"q20\", \"q21\", \"q22\", \"q58\", \"q59\",\n",
    "         \"q60\", \"q61\", \"q62\", \n",
    "         \"q63\", \"q64\", \"qtaughtHIV\"]\n",
    "bullyqs = [\"q23\", \"q24\", \"qbullygay\"]\n",
    "suicideqs = [\"q25\", \"q26\", \"q27\", \n",
    "             \"q28\", \"q29\"]\n",
    "drugqs = [\"q30\", \"q32\", \"q33\",\n",
    "          \"q38\", \"q40\", \"q41\",\n",
    "          \"q45\", \"q46\", \"q47\",\n",
    "          \"q50\", \"q51\", \"q52\",\n",
    "          \"q53\", \"q54\", \"q55\",\n",
    "          \"q56\", \"q57\", \"qcigschool\",\n",
    "          \"qalcoholschool\", \"qmarijuanaschool\",\n",
    "          'q31', 'q34', 'q35',\n",
    "          'q36', 'q37', 'q42', \n",
    "          'q43', 'q44', 'q48',\n",
    "          'q49', \"qchewtobschool\",\n",
    "          \"qcurrentcocaine\"]\n",
    "selfqs = [\"q65\", \"q66\", \"q67\",\n",
    "          \"q68\", \"q89\", \"qnowt\",\n",
    "          \"qnobese\", \"bmipct\", \"bmi\",\n",
    "          \"sexpart\", \"sexpart2\", \"sexid\",\n",
    "          \"sexid2\", \"stheight\", \"stweight\",\n",
    "          \"race4\", \"race7\", \"sex\",\n",
    "          \"age\", \"grade\", \"qgenderexp\",\n",
    "          \"qmusclestrength\", \"qcurrentasthma\",\n",
    "          \"qtransgender\"] \n",
    "selfHealthqs = [\"q69\", \"q70\", \"q71\",\n",
    "                \"q72\", \"q73\", \"q74\",\n",
    "                \"q76\", \"q79\", \"q81\",\n",
    "                \"q82\", \"q87\", 'q75',\n",
    "                'q77', 'q78', 'q80',\n",
    "                'q84', 'q86', 'q88'] # may want to move some of these to sexqs\n",
    "riskqs = [\"qbikehelmet\", \"qpropertydamage\"]\n",
    "\n",
    "listOfQList = [carRiskqs, violenceqs, sexqs,\n",
    "               suicideqs, drugqs, selfqs,\n",
    "               selfHealthqs, riskqs, bullyqs]\n",
    "listOfQListName = [\"carRiskqs\", \"violenceqs\", \"sexqs\",\n",
    "                   \"suicideqs\", \"drugqs\", \"selfqs\",\n",
    "                   \"selfHealthqs\", \"riskqs\", \"bullyqs\"]"
   ]
  },
  {
   "cell_type": "markdown",
   "id": "251b79a9",
   "metadata": {
    "pycharm": {
     "name": "#%% md\n"
    }
   },
   "source": [
    "drop car risks not answered"
   ]
  },
  {
   "cell_type": "code",
   "execution_count": 71,
   "id": "36a65b8f",
   "metadata": {
    "pycharm": {
     "name": "#%%\n"
    }
   },
   "outputs": [
    {
     "name": "stdout",
     "output_type": "stream",
     "text": [
      " 2011 Shape: (25437, 113) \n",
      " 2013 Shape: (14989, 113) \n",
      " 2015 Shape: (22662, 113)\n"
     ]
    }
   ],
   "source": [
    "surv11 = survDat.query(\"year == 2011\")\n",
    "surv13 = survDat.query(\"year == 2013\")\n",
    "surv15 = survDat.query(\"year == 2015\")\n",
    "print(\" 2011 Shape:\", surv11.shape, '\\n',\n",
    "      \"2013 Shape:\", surv13.shape,'\\n',\n",
    "     \"2015 Shape:\",surv15.shape)"
   ]
  },
  {
   "cell_type": "code",
   "execution_count": 60,
   "id": "456d1ce3",
   "metadata": {
    "pycharm": {
     "name": "#%%\n"
    }
   },
   "outputs": [],
   "source": [
    "numRows11 = surv11.shape[0]\n",
    "numRows13 = surv13.shape[0]\n",
    "numRows15 = surv15.shape[0]\n",
    "numCols = surv15.shape[1]"
   ]
  },
  {
   "cell_type": "code",
   "execution_count": 61,
   "id": "53a73ac1",
   "metadata": {},
   "outputs": [
    {
     "name": "stdout",
     "output_type": "stream",
     "text": [
      "0.6 (7769, 81)\n",
      "0.7 (7769, 81)\n",
      "0.8 (8033, 72)\n",
      "0.9 (15517, 52)\n"
     ]
    }
   ],
   "source": [
    "colThresh = [.6, .7, .8, .9]\n",
    "\n",
    "for thresh in colThresh:\n",
    "    temp = surv11.dropna(axis=1, thresh=int(numRows11*thresh))\n",
    "    print(thresh, temp.dropna().shape)"
   ]
  },
  {
   "cell_type": "code",
   "execution_count": 74,
   "id": "91181909",
   "metadata": {
    "pycharm": {
     "name": "#%%\n"
    }
   },
   "outputs": [
    {
     "data": {
      "text/plain": [
       "q8                    [1.0, 2.0, 3.0, 4.0, 5.0]\n",
       "q9                    [1.0, 2.0, 3.0, 4.0, 5.0]\n",
       "q10              [1.0, 2.0, 3.0, 4.0, 5.0, 6.0]\n",
       "q11    [1.0, 2.0, 3.0, 4.0, 5.0, 6.0, 7.0, 8.0]\n",
       "dtype: object"
      ]
     },
     "execution_count": 74,
     "metadata": {},
     "output_type": "execute_result"
    }
   ],
   "source": [
    "surv13[carRiskqs].apply(lambda col : np.sort(col.unique()))"
   ]
  },
  {
   "cell_type": "code",
   "execution_count": 75,
   "id": "e45e0fda",
   "metadata": {},
   "outputs": [],
   "source": [
    "def carRiskScore(dat):\n",
    "    carRiskqs = [\"q8\", \"q9\", \"q10\", \"q11\"]\n",
    "    q8Scores = {1.0 : 8, 2.0 : 5, 3.0 : 3, 4.0 : 1, 5.0 : 0}\n",
    "    q9Scores = {1.0 : 0, 2.0 : 3, 3.0 : 5, 4.0 : 7, 5.0 : 10}\n",
    "    q10Scores = {1.0 : 0, 2.0 : 0, 3.0 : 4, 4.0 : 6, 5.0 : 8, 6.0 : 10}\n",
    "    q11Scores = {1.0 : 0, 2.0 : 0, 3.0 : 2, 4.0 : 3, 5.0 : 5, 6.0 : 7, 7.0 : 8, 8.0 : 10}\n",
    "    carRiskScores = {\"q8\" : q8Scores, \"q9\" : q9Scores, \"q10\" : q10Scores, \"q11\" : q11Scores}\n",
    "    saturatedScore = sum([max(carRiskScores[q].values()) for q in carRiskScores.keys()])\n",
    "    \n",
    "    return 1000*(dat[carRiskqs].apply(lambda col : col.replace(carRiskScores[col.name]))\n",
    "                               .sum(axis=1)\n",
    "                               .div(saturatedScore))"
   ]
  },
  {
   "cell_type": "code",
   "execution_count": 77,
   "id": "8337ba0d",
   "metadata": {},
   "outputs": [
    {
     "data": {
      "text/plain": [
       "count    25437.000000\n",
       "mean        73.670141\n",
       "std         99.861628\n",
       "min          0.000000\n",
       "25%          0.000000\n",
       "50%         26.315789\n",
       "75%        131.578947\n",
       "max        473.684211\n",
       "dtype: float64"
      ]
     },
     "execution_count": 77,
     "metadata": {},
     "output_type": "execute_result"
    }
   ],
   "source": [
    "carRiskScore(surv11).describe()"
   ]
  },
  {
   "cell_type": "code",
   "execution_count": 93,
   "id": "e4f272b4",
   "metadata": {},
   "outputs": [
    {
     "data": {
      "text/plain": [
       "dtype('float64')"
      ]
     },
     "execution_count": 93,
     "metadata": {},
     "output_type": "execute_result"
    }
   ],
   "source": [
    "carRiskScore(surv13).describe()"
   ]
  },
  {
   "cell_type": "code",
   "execution_count": 79,
   "id": "b5da5ea1",
   "metadata": {},
   "outputs": [
    {
     "data": {
      "text/plain": [
       "count    22662.000000\n",
       "mean        83.978977\n",
       "std        133.664057\n",
       "min          0.000000\n",
       "25%          0.000000\n",
       "50%         26.315789\n",
       "75%        131.578947\n",
       "max       1000.000000\n",
       "dtype: float64"
      ]
     },
     "execution_count": 79,
     "metadata": {},
     "output_type": "execute_result"
    }
   ],
   "source": [
    "carRiskScore(surv15).describe()"
   ]
  },
  {
   "cell_type": "code",
   "execution_count": 80,
   "id": "8c9e71b5",
   "metadata": {},
   "outputs": [
    {
     "name": "stderr",
     "output_type": "stream",
     "text": [
      "<ipython-input-80-2ae207d4c3fe>:1: SettingWithCopyWarning: \n",
      "A value is trying to be set on a copy of a slice from a DataFrame.\n",
      "Try using .loc[row_indexer,col_indexer] = value instead\n",
      "\n",
      "See the caveats in the documentation: https://pandas.pydata.org/pandas-docs/stable/user_guide/indexing.html#returning-a-view-versus-a-copy\n",
      "  surv11[\"carRiskScore\"] = carRiskScore(surv11)\n",
      "<ipython-input-80-2ae207d4c3fe>:2: SettingWithCopyWarning: \n",
      "A value is trying to be set on a copy of a slice from a DataFrame.\n",
      "Try using .loc[row_indexer,col_indexer] = value instead\n",
      "\n",
      "See the caveats in the documentation: https://pandas.pydata.org/pandas-docs/stable/user_guide/indexing.html#returning-a-view-versus-a-copy\n",
      "  surv13[\"carRiskScore\"] = carRiskScore(surv13)\n",
      "<ipython-input-80-2ae207d4c3fe>:3: SettingWithCopyWarning: \n",
      "A value is trying to be set on a copy of a slice from a DataFrame.\n",
      "Try using .loc[row_indexer,col_indexer] = value instead\n",
      "\n",
      "See the caveats in the documentation: https://pandas.pydata.org/pandas-docs/stable/user_guide/indexing.html#returning-a-view-versus-a-copy\n",
      "  surv15[\"carRiskScore\"] = carRiskScore(surv15)\n"
     ]
    }
   ],
   "source": [
    "surv11[\"carRiskScore\"] = carRiskScore(surv11)\n",
    "surv13[\"carRiskScore\"] = carRiskScore(surv13)\n",
    "surv15[\"carRiskScore\"] = carRiskScore(surv15)"
   ]
  },
  {
   "cell_type": "code",
   "execution_count": 85,
   "id": "3bb9e5a5",
   "metadata": {},
   "outputs": [
    {
     "data": {
      "image/png": "[encoded data removed]",
      "text/plain": [
       "<Figure size 432x288 with 1 Axes>"
      ]
     },
     "metadata": {
      "needs_background": "light"
     },
     "output_type": "display_data"
    }
   ],
   "source": [
    "_ = sns.violinplot(y=\"sitename\", x=\"carRiskScore\", data = surv11)"
   ]
  },
  {
   "cell_type": "code",
   "execution_count": 86,
   "id": "0a7c0653",
   "metadata": {},
   "outputs": [
    {
     "data": {
      "image/png": "[encoded data removed]",
      "text/plain": [
       "<Figure size 432x288 with 1 Axes>"
      ]
     },
     "metadata": {
      "needs_background": "light"
     },
     "output_type": "display_data"
    }
   ],
   "source": [
    "_ = sns.violinplot(y=\"sitename\", x=\"carRiskScore\", data = surv13)"
   ]
  },
  {
   "cell_type": "code",
   "execution_count": 87,
   "id": "df623b2e",
   "metadata": {},
   "outputs": [
    {
     "data": {
      "image/png": "[encoded data removed]",
      "text/plain": [
       "<Figure size 432x288 with 1 Axes>"
      ]
     },
     "metadata": {
      "needs_background": "light"
     },
     "output_type": "display_data"
    }
   ],
   "source": [
    "_ = sns.violinplot(y=\"sitename\", x=\"carRiskScore\", data = surv15)"
   ]
  },
  {
   "cell_type": "code",
   "execution_count": 99,
   "id": "6d19fa50",
   "metadata": {},
   "outputs": [],
   "source": [
    "s13 = pd.Series(carRiskScore(surv13),index=[2013]*len(carRiskScore(surv13)))\n"
   ]
  },
  {
   "cell_type": "code",
   "execution_count": 106,
   "id": "af1666ac",
   "metadata": {},
   "outputs": [
    {
     "data": {
      "text/plain": [
       "304478      0.000000\n",
       "304479    131.578947\n",
       "304480      0.000000\n",
       "304481    131.578947\n",
       "304482    157.894737\n",
       "             ...    \n",
       "345398    131.578947\n",
       "345399    131.578947\n",
       "345401      0.000000\n",
       "345403      0.000000\n",
       "345404     26.315789\n",
       "Length: 14989, dtype: float64"
      ]
     },
     "execution_count": 106,
     "metadata": {},
     "output_type": "execute_result"
    }
   ],
   "source": [
    "carRiskScore(surv13).loc[0:]"
   ]
  },
  {
   "cell_type": "code",
   "execution_count": 98,
   "id": "47eede00",
   "metadata": {},
   "outputs": [
    {
     "data": {
      "text/plain": [
       "304478      0.000000\n",
       "304479    131.578947\n",
       "304480      0.000000\n",
       "304481    131.578947\n",
       "304482    157.894737\n",
       "             ...    \n",
       "345398    131.578947\n",
       "345399    131.578947\n",
       "345401      0.000000\n",
       "345403      0.000000\n",
       "345404     26.315789\n",
       "Length: 14989, dtype: float64"
      ]
     },
     "execution_count": 98,
     "metadata": {},
     "output_type": "execute_result"
    }
   ],
   "source": [
    "carRiskScore(surv13)"
   ]
  },
  {
   "cell_type": "code",
   "execution_count": null,
   "id": "88544d31",
   "metadata": {},
   "outputs": [],
   "source": [
    "s13 = pd.Series(carRiskScore(surv13),index=2013)\n",
    "plot_df = pd.concat([carRiskScore(surv11), s2])"
   ]
  },
  {
   "cell_type": "code",
   "execution_count": 88,
   "id": "b2df6e5f",
   "metadata": {},
   "outputs": [
    {
     "data": {
      "image/png": "[encoded data removed]",
      "text/plain": [
       "<Figure size 432x288 with 1 Axes>"
      ]
     },
     "metadata": {
      "needs_background": "light"
     },
     "output_type": "display_data"
    }
   ],
   "source": [
    "_ = sns.violinplot(x=carRiskScore(surv11), inner=\"quartile\")"
   ]
  },
  {
   "cell_type": "code",
   "execution_count": 91,
   "id": "352581b8",
   "metadata": {},
   "outputs": [
    {
     "data": {
      "image/png": "[encoded data removed]",
      "text/plain": [
       "<Figure size 432x288 with 1 Axes>"
      ]
     },
     "metadata": {
      "needs_background": "light"
     },
     "output_type": "display_data"
    }
   ],
   "source": [
    "_ = sns.violinplot(x=carRiskScore(surv13), inner=\"quartile\")"
   ]
  },
  {
   "cell_type": "code",
   "execution_count": 92,
   "id": "0c5eca95",
   "metadata": {},
   "outputs": [
    {
     "data": {
      "image/png": "[encoded data removed]",
      "text/plain": [
       "<Figure size 432x288 with 1 Axes>"
      ]
     },
     "metadata": {
      "needs_background": "light"
     },
     "output_type": "display_data"
    }
   ],
   "source": [
    "_ = sns.violinplot(x=carRiskScore(surv15), inner=\"quartile\")"
   ]
  },
  {
   "cell_type": "code",
   "execution_count": null,
   "id": "3ef28879",
   "metadata": {},
   "outputs": [],
   "source": [
    "pd.to_pickle(surv11, root + \"cleanSurv11.pkl\")\n",
    "pd.to_pickle(surv11, root + \"cleanSurv11.pkl\")\n",
    "pd.to_pickle(surv11, roott \"cleanSurv11.pkl\")"
   ]
  },
  {
   "cell_type": "code",
   "execution_count": 2,
   "outputs": [],
   "source": [
    "root = \"../data/\"\n",
    "df = pd.read_csv(root + 'survCleanWithSameCols.csv')"
   ],
   "metadata": {
    "collapsed": false,
    "pycharm": {
     "name": "#%%\n"
    }
   }
  },
  {
   "cell_type": "code",
   "execution_count": 8,
   "outputs": [
    {
     "data": {
      "text/plain": "        carRiskScore            age            bmi\ncount  108151.000000  108151.000000  108151.000000\nmean       66.412993       4.966991      23.127550\nstd        99.419744       1.207521       4.722617\nmin         0.000000       1.000000      12.397924\n25%         0.000000       4.000000      19.992654\n50%        26.315789       5.000000      22.082032\n75%        78.947368       6.000000      25.157025\nmax      1000.000000       7.000000      63.317172",
      "text/html": "<div>\n<style scoped>\n    .dataframe tbody tr th:only-of-type {\n        vertical-align: middle;\n    }\n\n    .dataframe tbody tr th {\n        vertical-align: top;\n    }\n\n    .dataframe thead th {\n        text-align: right;\n    }\n</style>\n<table border=\"1\" class=\"dataframe\">\n  <thead>\n    <tr style=\"text-align: right;\">\n      <th></th>\n      <th>carRiskScore</th>\n      <th>age</th>\n      <th>bmi</th>\n    </tr>\n  </thead>\n  <tbody>\n    <tr>\n      <th>count</th>\n      <td>108151.000000</td>\n      <td>108151.000000</td>\n      <td>108151.000000</td>\n    </tr>\n    <tr>\n      <th>mean</th>\n      <td>66.412993</td>\n      <td>4.966991</td>\n      <td>23.127550</td>\n    </tr>\n    <tr>\n      <th>std</th>\n      <td>99.419744</td>\n      <td>1.207521</td>\n      <td>4.722617</td>\n    </tr>\n    <tr>\n      <th>min</th>\n      <td>0.000000</td>\n      <td>1.000000</td>\n      <td>12.397924</td>\n    </tr>\n    <tr>\n      <th>25%</th>\n      <td>0.000000</td>\n      <td>4.000000</td>\n      <td>19.992654</td>\n    </tr>\n    <tr>\n      <th>50%</th>\n      <td>26.315789</td>\n      <td>5.000000</td>\n      <td>22.082032</td>\n    </tr>\n    <tr>\n      <th>75%</th>\n      <td>78.947368</td>\n      <td>6.000000</td>\n      <td>25.157025</td>\n    </tr>\n    <tr>\n      <th>max</th>\n      <td>1000.000000</td>\n      <td>7.000000</td>\n      <td>63.317172</td>\n    </tr>\n  </tbody>\n</table>\n</div>"
     },
     "execution_count": 8,
     "metadata": {},
     "output_type": "execute_result"
    }
   ],
   "source": [
    "df[[\"carRiskScore\", \"age\", \"bmi\"]].describe()"
   ],
   "metadata": {
    "collapsed": false,
    "pycharm": {
     "name": "#%%\n"
    }
   }
  },
  {
   "cell_type": "code",
   "execution_count": 10,
   "outputs": [
    {
     "data": {
      "text/plain": "2.0    0.270233\n1.0    0.265730\n3.0    0.252083\n4.0    0.211954\nName: grade, dtype: float64"
     },
     "execution_count": 10,
     "metadata": {},
     "output_type": "execute_result"
    }
   ],
   "source": [
    "n = df.shape[0]\n",
    "df.grade.value_counts()/df.shape[0]"
   ],
   "metadata": {
    "collapsed": false,
    "pycharm": {
     "name": "#%%\n"
    }
   }
  },
  {
   "cell_type": "code",
   "execution_count": 11,
   "outputs": [
    {
     "data": {
      "text/plain": "1.0    0.540781\n2.0    0.459219\nName: sex, dtype: float64"
     },
     "execution_count": 11,
     "metadata": {},
     "output_type": "execute_result"
    }
   ],
   "source": [
    "df.sex.value_counts()/n"
   ],
   "metadata": {
    "collapsed": false,
    "pycharm": {
     "name": "#%%\n"
    }
   }
  },
  {
   "cell_type": "code",
   "execution_count": 13,
   "outputs": [
    {
     "data": {
      "text/plain": "3.0    0.383769\n1.0    0.232647\n2.0    0.226027\n4.0    0.157557\nName: race4, dtype: float64"
     },
     "execution_count": 13,
     "metadata": {},
     "output_type": "execute_result"
    }
   ],
   "source": [
    "df.race4.value_counts()/n"
   ],
   "metadata": {
    "collapsed": false,
    "pycharm": {
     "name": "#%%\n"
    }
   }
  },
  {
   "cell_type": "code",
   "execution_count": null,
   "outputs": [],
   "source": [],
   "metadata": {
    "collapsed": false,
    "pycharm": {
     "name": "#%%\n"
    }
   }
  }
 ],
 "metadata": {
  "kernelspec": {
   "display_name": "Python 3",
   "language": "python",
   "name": "python3"
  },
  "language_info": {
   "codemirror_mode": {
    "name": "ipython",
    "version": 3
   },
   "file_extension": ".py",
   "mimetype": "text/x-python",
   "name": "python",
   "nbconvert_exporter": "python",
   "pygments_lexer": "ipython3",
   "version": "3.9.7"
  }
 },
 "nbformat": 4,
 "nbformat_minor": 5
}